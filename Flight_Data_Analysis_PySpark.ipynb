{
 "cells": [
  {
   "cell_type": "code",
   "execution_count": 0,
   "metadata": {
    "application/vnd.databricks.v1+cell": {
     "cellMetadata": {
      "byteLimit": 2048000,
      "rowLimit": 10000
     },
     "inputWidgets": {},
     "nuid": "cc3df199-ba46-458d-bb28-d88d5cd05f27",
     "showTitle": false,
     "tableResultSettingsMap": {},
     "title": ""
    }
   },
   "outputs": [
    {
     "output_type": "stream",
     "name": "stdout",
     "output_type": "stream",
     "text": [
      "Python interpreter will be restarted.\nRequirement already satisfied: pyspark in /local_disk0/.ephemeral_nfs/envs/pythonEnv-745faca3-a393-4e2c-9aea-a97eced1acc0/lib/python3.9/site-packages (3.5.5)\nRequirement already satisfied: py4j==0.10.9.7 in /local_disk0/.ephemeral_nfs/envs/pythonEnv-745faca3-a393-4e2c-9aea-a97eced1acc0/lib/python3.9/site-packages (from pyspark) (0.10.9.7)\nPython interpreter will be restarted.\n"
     ]
    }
   ],
   "source": [
    "pip install pyspark"
   ]
  },
  {
   "cell_type": "code",
   "execution_count": 0,
   "metadata": {
    "application/vnd.databricks.v1+cell": {
     "cellMetadata": {
      "byteLimit": 2048000,
      "rowLimit": 10000
     },
     "inputWidgets": {},
     "nuid": "9b1ae37d-a516-4000-9a85-abd646f42395",
     "showTitle": false,
     "tableResultSettingsMap": {},
     "title": ""
    }
   },
   "outputs": [],
   "source": [
    "from pyspark.sql import SparkSession\n",
    "from pyspark.sql.functions import col, count, avg, max, min, sum, month"
   ]
  },
  {
   "cell_type": "code",
   "execution_count": 0,
   "metadata": {
    "application/vnd.databricks.v1+cell": {
     "cellMetadata": {
      "byteLimit": 2048000,
      "rowLimit": 10000
     },
     "inputWidgets": {},
     "nuid": "138df40e-6b80-48b9-8386-07907d615c99",
     "showTitle": false,
     "tableResultSettingsMap": {},
     "title": ""
    }
   },
   "outputs": [],
   "source": [
    "# Initialize Spark session\n",
    "spark = SparkSession.builder.appName(\"FlightDataAnalysis\").getOrCreate()"
   ]
  },
  {
   "cell_type": "code",
   "execution_count": 0,
   "metadata": {
    "application/vnd.databricks.v1+cell": {
     "cellMetadata": {
      "byteLimit": 2048000,
      "rowLimit": 10000
     },
     "inputWidgets": {},
     "nuid": "92a0d26d-6c78-40b8-9023-b0a7cc0eb00b",
     "showTitle": false,
     "tableResultSettingsMap": {},
     "title": ""
    }
   },
   "outputs": [],
   "source": [
    "#File uploaded to /FileStore/tables/airports-1.csv\n",
    "#File uploaded to /FileStore/tables/flights-1.csv\n",
    "#File uploaded to /FileStore/tables/raw_flight_data-1.csv"
   ]
  },
  {
   "cell_type": "code",
   "execution_count": 0,
   "metadata": {
    "application/vnd.databricks.v1+cell": {
     "cellMetadata": {
      "byteLimit": 2048000,
      "rowLimit": 10000
     },
     "inputWidgets": {},
     "nuid": "42ff2604-139d-4dc2-ad0d-52e9702c8a2e",
     "showTitle": false,
     "tableResultSettingsMap": {},
     "title": ""
    }
   },
   "outputs": [],
   "source": [
    "# Load CSV files\n",
    "airports_df = spark.read.csv(\"/FileStore/tables/airports-1.csv\", header=True, inferSchema=True)\n",
    "flights_df = spark.read.csv(\"/FileStore/tables/flights-1.csv\", header=True, inferSchema=True)\n",
    "raw_flight_data_df = spark.read.csv(\"/FileStore/tables/raw_flight_data-1.csv\", header=True, inferSchema=True)"
   ]
  },
  {
   "cell_type": "code",
   "execution_count": 0,
   "metadata": {
    "application/vnd.databricks.v1+cell": {
     "cellMetadata": {
      "byteLimit": 2048000,
      "rowLimit": 10000
     },
     "inputWidgets": {},
     "nuid": "198de456-b8a6-4760-986f-7f85d41d97e3",
     "showTitle": false,
     "tableResultSettingsMap": {},
     "title": ""
    }
   },
   "outputs": [],
   "source": [
    "# **Data Cleaning**\n",
    "# Remove duplicates\n",
    "airports_df = airports_df.dropDuplicates()\n",
    "flights_df = flights_df.dropDuplicates()\n",
    "raw_flight_data_df = raw_flight_data_df.dropDuplicates()"
   ]
  },
  {
   "cell_type": "code",
   "execution_count": 0,
   "metadata": {
    "application/vnd.databricks.v1+cell": {
     "cellMetadata": {
      "byteLimit": 2048000,
      "rowLimit": 10000
     },
     "inputWidgets": {},
     "nuid": "7bd1c76a-6d0d-4c4a-8e42-da8f5fa73adb",
     "showTitle": false,
     "tableResultSettingsMap": {},
     "title": ""
    }
   },
   "outputs": [],
   "source": [
    "# Drop missing values\n",
    "airports_df = airports_df.na.drop()\n",
    "flights_df = flights_df.na.drop()\n",
    "raw_flight_data_df = raw_flight_data_df.na.drop()"
   ]
  },
  {
   "cell_type": "code",
   "execution_count": 0,
   "metadata": {
    "application/vnd.databricks.v1+cell": {
     "cellMetadata": {
      "byteLimit": 2048000,
      "rowLimit": 10000
     },
     "inputWidgets": {},
     "nuid": "fb5a6d0e-6556-42c6-8559-90f07913d829",
     "showTitle": false,
     "tableResultSettingsMap": {},
     "title": ""
    }
   },
   "outputs": [
    {
     "output_type": "stream",
     "name": "stdout",
     "output_type": "stream",
     "text": [
      "+----------+---------+-------+---------------+-------------+--------+--------+-----+\n|DayofMonth|DayOfWeek|airline|OriginAirportID|DestAirportID|DepDelay|ArrDelay|delay|\n+----------+---------+-------+---------------+-------------+--------+--------+-----+\n|        19|        5|     dl|          14869|        12478|       0|      -8|   -8|\n|        19|        5|     dl|          11193|        12892|      -6|     -11|  -17|\n|        19|        5|     dl|          14057|        14869|      -4|     -15|  -19|\n|        19|        5|     dl|          15016|        11433|      28|      24|   52|\n|        19|        5|     dl|          11433|        13303|      -3|       1|   -2|\n+----------+---------+-------+---------------+-------------+--------+--------+-----+\nonly showing top 5 rows\n\n"
     ]
    }
   ],
   "source": [
    "flights_df = flights_df.withColumn(\"delay\", col(\"ArrDelay\") + col(\"DepDelay\"))\n",
    "flights_df.show(5)\n"
   ]
  },
  {
   "cell_type": "code",
   "execution_count": 0,
   "metadata": {
    "application/vnd.databricks.v1+cell": {
     "cellMetadata": {
      "byteLimit": 2048000,
      "rowLimit": 10000
     },
     "inputWidgets": {},
     "nuid": "b8ae756f-2455-46dc-ba21-84304af3bc07",
     "showTitle": false,
     "tableResultSettingsMap": {},
     "title": ""
    }
   },
   "outputs": [
    {
     "output_type": "stream",
     "name": "stdout",
     "output_type": "stream",
     "text": [
      "+-------+------------------+\n|airline|         avg_delay|\n+-------+------------------+\n|     us| 8.913458236021432|\n|     b6|22.260432906116154|\n|     mq|29.074327881432307|\n|     ha|3.0685993111366248|\n|     yv| 17.96360843510582|\n|     fl|17.397470621877392|\n|     9e|14.355000564468584|\n|     ev|24.455205272063406|\n|     f9|24.973556077904632|\n|     wn|21.187773275127398|\n|     ua|17.735460206789725|\n|     vx| 24.05662279312232|\n|     as|0.3872078433661113|\n|     dl|10.244658520030713|\n|     oo| 14.21580187201624|\n|     aa| 19.20978568288267|\n+-------+------------------+\n\n"
     ]
    }
   ],
   "source": [
    "from pyspark.sql.functions import avg\n",
    "\n",
    "flights_df.groupBy(\"airline\").agg(avg(\"delay\").alias(\"avg_delay\")).show()"
   ]
  },
  {
   "cell_type": "code",
   "execution_count": 0,
   "metadata": {
    "application/vnd.databricks.v1+cell": {
     "cellMetadata": {
      "byteLimit": 2048000,
      "rowLimit": 10000
     },
     "inputWidgets": {},
     "nuid": "f95e0c87-ee31-42aa-b0f7-97a8f4e303a2",
     "showTitle": false,
     "tableResultSettingsMap": {},
     "title": ""
    }
   },
   "outputs": [
    {
     "output_type": "stream",
     "name": "stdout",
     "output_type": "stream",
     "text": [
      "+----------+-----------+-----+--------------------+\n|airport_id|       city|state|                name|\n+----------+-----------+-----+--------------------+\n|     10304|      Aniak|   AK|       Aniak Airport|\n|     10551|     Bethel|   AK|      Bethel Airport|\n|     10926|    Cordova|   AK|Merle K Mudhole S...|\n|     10754|     Barrow|   AK|Wiley Post/Will R...|\n|     10165|Adak Island|   AK|                Adak|\n+----------+-----------+-----+--------------------+\nonly showing top 5 rows\n\n"
     ]
    }
   ],
   "source": [
    "airports_df.show(5)"
   ]
  },
  {
   "cell_type": "code",
   "execution_count": 0,
   "metadata": {
    "application/vnd.databricks.v1+cell": {
     "cellMetadata": {
      "byteLimit": 2048000,
      "rowLimit": 10000
     },
     "inputWidgets": {},
     "nuid": "c8f44f44-06b3-40b2-bbe4-941a9ceb303c",
     "showTitle": false,
     "tableResultSettingsMap": {},
     "title": ""
    }
   },
   "outputs": [
    {
     "output_type": "stream",
     "name": "stdout",
     "output_type": "stream",
     "text": [
      "+----------+---------+-------+---------------+-------------+--------+--------+\n|DayofMonth|DayOfWeek|Carrier|OriginAirportID|DestAirportID|DepDelay|ArrDelay|\n+----------+---------+-------+---------------+-------------+--------+--------+\n|        19|        5|     DL|          14869|        12478|       0|      -8|\n|        19|        5|     DL|          11193|        12892|      -6|     -11|\n|        19|        5|     DL|          14057|        14869|      -4|     -15|\n|        19|        5|     DL|          15016|        11433|      28|      24|\n|        19|        5|     DL|          11433|        13303|      -3|       1|\n+----------+---------+-------+---------------+-------------+--------+--------+\nonly showing top 5 rows\n\n"
     ]
    }
   ],
   "source": [
    "raw_flight_data_df.show(5)"
   ]
  },
  {
   "cell_type": "code",
   "execution_count": 0,
   "metadata": {
    "application/vnd.databricks.v1+cell": {
     "cellMetadata": {
      "byteLimit": 2048000,
      "rowLimit": 10000
     },
     "inputWidgets": {},
     "nuid": "a02d0b59-b962-41f8-8ba3-1dd5dfcf0c32",
     "showTitle": false,
     "tableResultSettingsMap": {},
     "title": ""
    }
   },
   "outputs": [],
   "source": [
    "# **Joining all three datasets**\n",
    "# First join flights with airport data (based on origin airport code)\n",
    "flights_df = flights_df.withColumnRenamed(\"Carrier\", \"airline\")\n",
    "from pyspark.sql.functions import trim, lower, col\n",
    "\n",
    "flights_df = flights_df.withColumn(\"airline\", trim(lower(col(\"airline\"))))\n",
    "flights_enriched_df = flights_df.join(airports_df, flights_df[\"OriginAirportID\"] == airports_df[\"airport_id\"], \"left\")"
   ]
  },
  {
   "cell_type": "code",
   "execution_count": 0,
   "metadata": {
    "application/vnd.databricks.v1+cell": {
     "cellMetadata": {
      "byteLimit": 2048000,
      "rowLimit": 10000
     },
     "inputWidgets": {},
     "nuid": "ec7a47fc-7712-44d5-afc5-3450d830ef37",
     "showTitle": false,
     "tableResultSettingsMap": {},
     "title": ""
    }
   },
   "outputs": [],
   "source": [
    "# Now join with raw flight data (assuming 'flight_id' is the key)\n",
    "final_df = flights_enriched_df.join(raw_flight_data_df, \"OriginAirportID\", \"left\")"
   ]
  },
  {
   "cell_type": "code",
   "execution_count": 0,
   "metadata": {
    "application/vnd.databricks.v1+cell": {
     "cellMetadata": {
      "byteLimit": 2048000,
      "rowLimit": 10000
     },
     "inputWidgets": {},
     "nuid": "f1cc3d88-4d6e-4777-b3b3-6452aaf93fa9",
     "showTitle": false,
     "tableResultSettingsMap": {},
     "title": ""
    }
   },
   "outputs": [
    {
     "output_type": "stream",
     "name": "stdout",
     "output_type": "stream",
     "text": [
      "+---------------+----------+---------+-------+-------------+--------+--------+-----+----------+-------+-----+--------------------+----------+---------+-------+-------------+--------+--------+\n|OriginAirportID|DayofMonth|DayOfWeek|airline|DestAirportID|DepDelay|ArrDelay|delay|airport_id|   city|state|                name|DayofMonth|DayOfWeek|Carrier|DestAirportID|DepDelay|ArrDelay|\n+---------------+----------+---------+-------+-------------+--------+--------+-----+----------+-------+-----+--------------------+----------+---------+-------+-------------+--------+--------+\n|          10397|        19|        5|     dl|        15016|      -1|     -19|  -20|     10397|Atlanta|   GA|Hartsfield-Jackso...|        18|        4|     DL|        11298|      -3|      44|\n|          10397|        19|        5|     dl|        15016|      -1|     -19|  -20|     10397|Atlanta|   GA|Hartsfield-Jackso...|        18|        4|     DL|        12451|       1|      -7|\n|          10397|        19|        5|     dl|        15016|      -1|     -19|  -20|     10397|Atlanta|   GA|Hartsfield-Jackso...|        19|        5|     DL|        11298|      20|      20|\n|          10397|        19|        5|     dl|        15016|      -1|     -19|  -20|     10397|Atlanta|   GA|Hartsfield-Jackso...|        16|        2|     DL|        11193|      -4|     -19|\n|          10397|        19|        5|     dl|        15016|      -1|     -19|  -20|     10397|Atlanta|   GA|Hartsfield-Jackso...|        18|        4|     DL|        13495|       0|       6|\n+---------------+----------+---------+-------+-------------+--------+--------+-----+----------+-------+-----+--------------------+----------+---------+-------+-------------+--------+--------+\nonly showing top 5 rows\n\n"
     ]
    }
   ],
   "source": [
    "final_df.show(5)"
   ]
  },
  {
   "cell_type": "code",
   "execution_count": 0,
   "metadata": {
    "application/vnd.databricks.v1+cell": {
     "cellMetadata": {
      "byteLimit": 2048000,
      "rowLimit": 10000
     },
     "inputWidgets": {},
     "nuid": "911ab3c5-d7a8-4d1c-afc9-efaa3500ab9c",
     "showTitle": false,
     "tableResultSettingsMap": {},
     "title": ""
    }
   },
   "outputs": [],
   "source": [
    "# 1. Total number of flights\n",
    "total_flights = final_df.count()"
   ]
  },
  {
   "cell_type": "code",
   "execution_count": 0,
   "metadata": {
    "application/vnd.databricks.v1+cell": {
     "cellMetadata": {
      "byteLimit": 2048000,
      "rowLimit": 10000
     },
     "inputWidgets": {},
     "nuid": "2491a756-79a3-4a44-82db-c17778b73311",
     "showTitle": false,
     "tableResultSettingsMap": {},
     "title": ""
    }
   },
   "outputs": [
    {
     "output_type": "display_data",
     "data": {
      "text/html": [
       "<style scoped>\n",
       "  .ansiout {\n",
       "    display: block;\n",
       "    unicode-bidi: embed;\n",
       "    white-space: pre-wrap;\n",
       "    word-wrap: break-word;\n",
       "    word-break: break-all;\n",
       "    font-family: \"Menlo\", \"Monaco\", \"Consolas\", \"Ubuntu Mono\", \"Source Code Pro\", monospace;\n",
       "    font-size: 13px;\n",
       "    color: #555;\n",
       "    margin-left: 4px;\n",
       "    line-height: 19px;\n",
       "  }\n",
       "</style>"
      ]
     },
     "metadata": {
      "application/vnd.databricks.v1+output": {
       "arguments": {},
       "data": "",
       "errorSummary": "Cancelled",
       "errorTraceType": "html",
       "metadata": {},
       "type": "ipynbError"
      }
     },
     "output_type": "display_data"
    }
   ],
   "source": [
    "# 2. Most frequent airline\n",
    "most_frequent_airline = final_df.groupBy(\"airline\").count().orderBy(col(\"count\").desc()).first()"
   ]
  },
  {
   "cell_type": "code",
   "execution_count": 0,
   "metadata": {
    "application/vnd.databricks.v1+cell": {
     "cellMetadata": {
      "byteLimit": 2048000,
      "rowLimit": 10000
     },
     "inputWidgets": {},
     "nuid": "11507970-6db0-4956-b701-d1fea4586da1",
     "showTitle": false,
     "tableResultSettingsMap": {},
     "title": ""
    }
   },
   "outputs": [],
   "source": [
    "# 3. Busiest airport (most departures)\n",
    "busiest_airport = final_df.groupBy(\"OriginAirportID\").count().orderBy(col(\"count\").desc()).first()"
   ]
  },
  {
   "cell_type": "code",
   "execution_count": 0,
   "metadata": {
    "application/vnd.databricks.v1+cell": {
     "cellMetadata": {
      "byteLimit": 2048000,
      "rowLimit": 10000
     },
     "inputWidgets": {},
     "nuid": "98319bc7-89df-4f0a-951b-60ccc164df8d",
     "showTitle": false,
     "tableResultSettingsMap": {},
     "title": ""
    }
   },
   "outputs": [
    {
     "output_type": "display_data",
     "data": {
      "text/html": [
       "<style scoped>\n",
       "  .ansiout {\n",
       "    display: block;\n",
       "    unicode-bidi: embed;\n",
       "    white-space: pre-wrap;\n",
       "    word-wrap: break-word;\n",
       "    word-break: break-all;\n",
       "    font-family: \"Menlo\", \"Monaco\", \"Consolas\", \"Ubuntu Mono\", \"Source Code Pro\", monospace;\n",
       "    font-size: 13px;\n",
       "    color: #555;\n",
       "    margin-left: 4px;\n",
       "    line-height: 19px;\n",
       "  }\n",
       "</style>"
      ]
     },
     "metadata": {
      "application/vnd.databricks.v1+output": {
       "arguments": {},
       "data": "",
       "errorSummary": "Cancelled",
       "errorTraceType": "html",
       "metadata": {},
       "type": "ipynbError"
      }
     },
     "output_type": "display_data"
    }
   ],
   "source": [
    "# 4. Average flight delay\n",
    "avg_delay = final_df.select(avg(\"delay\")).first()[0]"
   ]
  },
  {
   "cell_type": "code",
   "execution_count": 0,
   "metadata": {
    "application/vnd.databricks.v1+cell": {
     "cellMetadata": {
      "byteLimit": 2048000,
      "rowLimit": 10000
     },
     "inputWidgets": {},
     "nuid": "99a7579e-c9dd-4af2-a8a6-727aba1027be",
     "showTitle": false,
     "tableResultSettingsMap": {},
     "title": ""
    }
   },
   "outputs": [],
   "source": [
    "# 5. Maximum and minimum flight delay recorded\n",
    "max_delay = final_df.select(max(\"delay\")).first()[0]\n",
    "min_delay = final_df.select(min(\"delay\")).first()[0]"
   ]
  },
  {
   "cell_type": "code",
   "execution_count": 0,
   "metadata": {
    "application/vnd.databricks.v1+cell": {
     "cellMetadata": {
      "byteLimit": 2048000,
      "rowLimit": 10000
     },
     "inputWidgets": {},
     "nuid": "60d8e204-aca2-4c7b-853f-1298cc18cef3",
     "showTitle": false,
     "tableResultSettingsMap": {},
     "title": ""
    }
   },
   "outputs": [],
   "source": [
    "# 6. Airlines with the most delays\n",
    "airline_delays = final_df.groupBy(\"airline\").agg(avg(\"delay\").alias(\"avg_delay\")).orderBy(col(\"avg_delay\").desc())"
   ]
  },
  {
   "cell_type": "code",
   "execution_count": 0,
   "metadata": {
    "application/vnd.databricks.v1+cell": {
     "cellMetadata": {
      "byteLimit": 2048000,
      "rowLimit": 10000
     },
     "inputWidgets": {},
     "nuid": "f431ae80-5013-4936-925d-e7ea4de98ec3",
     "showTitle": false,
     "tableResultSettingsMap": {},
     "title": ""
    }
   },
   "outputs": [],
   "source": [
    "# 8. Airports with the most delays\n",
    "airport_delays = final_df.groupBy(\"OriginAirportID\").agg(avg(\"delay\").alias(\"avg_delay\")).orderBy(col(\"avg_delay\").desc())"
   ]
  },
  {
   "cell_type": "code",
   "execution_count": 0,
   "metadata": {
    "application/vnd.databricks.v1+cell": {
     "cellMetadata": {
      "byteLimit": 2048000,
      "rowLimit": 10000
     },
     "inputWidgets": {},
     "nuid": "28dd2517-0dd4-4d18-85fb-918be1f2b2fb",
     "showTitle": false,
     "tableResultSettingsMap": {},
     "title": ""
    }
   },
   "outputs": [],
   "source": [
    "# 9. Percentage of delayed vs. on-time flights\n",
    "total_delayed_flights = final_df.filter(col(\"delay\") > 0).count()\n",
    "percentage_delayed = (total_delayed_flights / total_flights) * 100 if total_flights > 0 else 0"
   ]
  },
  {
   "cell_type": "code",
   "execution_count": 0,
   "metadata": {
    "application/vnd.databricks.v1+cell": {
     "cellMetadata": {
      "byteLimit": 2048000,
      "rowLimit": 10000
     },
     "inputWidgets": {},
     "nuid": "7936e6ea-a8de-4b1e-8836-42fc225ff669",
     "showTitle": false,
     "tableResultSettingsMap": {},
     "title": ""
    }
   },
   "outputs": [],
   "source": [
    "flights_df = flights_df.withColumnRenamed(\"DestAirportID\", \"destination\")"
   ]
  },
  {
   "cell_type": "code",
   "execution_count": 0,
   "metadata": {
    "application/vnd.databricks.v1+cell": {
     "cellMetadata": {
      "byteLimit": 2048000,
      "rowLimit": 10000
     },
     "inputWidgets": {},
     "nuid": "685361c9-fcf0-4964-8361-13bbb3eeac3a",
     "showTitle": false,
     "tableResultSettingsMap": {},
     "title": ""
    }
   },
   "outputs": [
    {
     "output_type": "stream",
     "name": "stdout",
     "output_type": "stream",
     "text": [
      "+-----------+------------+\n|destination|flight_count|\n+-----------+------------+\n|      14570|       10351|\n|      12264|       37574|\n|      14771|       83629|\n|      11057|       76441|\n|      13830|       11254|\n|      12191|       28844|\n|      10529|       13063|\n|      11259|       18993|\n|      10800|       14137|\n|      14831|       24268|\n|      12889|       77762|\n|      14730|       10939|\n|      13303|       42014|\n|      13342|       20964|\n|      10140|       17545|\n|      11278|       42829|\n|      15304|       35126|\n|      10792|       14791|\n|      14524|       11482|\n|      10423|       26987|\n+-----------+------------+\nonly showing top 20 rows\n\n"
     ]
    }
   ],
   "source": [
    "from pyspark.sql.functions import count\n",
    "\n",
    "destination_counts_df = flights_df.groupBy(\"destination\").agg(count(\"*\").alias(\"flight_count\"))\n",
    "destination_counts_df.show()"
   ]
  },
  {
   "cell_type": "code",
   "execution_count": 0,
   "metadata": {
    "application/vnd.databricks.v1+cell": {
     "cellMetadata": {
      "byteLimit": 2048000,
      "rowLimit": 10000
     },
     "inputWidgets": {},
     "nuid": "ac905ca8-8c6f-4e68-a289-a375d553274c",
     "showTitle": false,
     "tableResultSettingsMap": {},
     "title": ""
    }
   },
   "outputs": [
    {
     "output_type": "stream",
     "name": "stdout",
     "output_type": "stream",
     "text": [
      "+---------------+----------+---------+-------+-------------+--------+--------+-----+----------+--------+-----+--------------------+----------+---------+-------+-------------+--------+--------+\n|OriginAirportID|DayofMonth|DayOfWeek|airline|DestAirportID|DepDelay|ArrDelay|delay|airport_id|    city|state|                name|DayofMonth|DayOfWeek|Carrier|DestAirportID|DepDelay|ArrDelay|\n+---------------+----------+---------+-------+-------------+--------+--------+-----+----------+--------+-----+--------------------+----------+---------+-------+-------------+--------+--------+\n|          14057|        19|        5|     dl|        14869|      -4|     -15|  -19|     14057|Portland|   OR|Portland Internat...|        21|        7|     DL|        14869|      -7|     -13|\n|          14057|        19|        5|     dl|        14869|      -4|     -15|  -19|     14057|Portland|   OR|Portland Internat...|        19|        5|     AA|        11298|      -8|     -22|\n|          14057|        19|        5|     dl|        14869|      -4|     -15|  -19|     14057|Portland|   OR|Portland Internat...|         6|        6|     AS|        13830|      -9|     -16|\n+---------------+----------+---------+-------+-------------+--------+--------+-----+----------+--------+-----+--------------------+----------+---------+-------+-------------+--------+--------+\nonly showing top 3 rows\n\n"
     ]
    }
   ],
   "source": [
    "final_df.show(3)"
   ]
  },
  {
   "cell_type": "code",
   "execution_count": 0,
   "metadata": {
    "application/vnd.databricks.v1+cell": {
     "cellMetadata": {
      "byteLimit": 2048000,
      "rowLimit": 10000
     },
     "inputWidgets": {},
     "nuid": "73a74771-5270-4492-af60-536f9cbba3a5",
     "showTitle": false,
     "tableResultSettingsMap": {},
     "title": ""
    }
   },
   "outputs": [],
   "source": [
    "flights_enriched_df = flights_df.join(\n",
    "    airports_df, \n",
    "    flights_df[\"destination\"] == airports_df[\"airport_id\"], \n",
    "    \"left\"\n",
    ")"
   ]
  },
  {
   "cell_type": "code",
   "execution_count": 0,
   "metadata": {
    "application/vnd.databricks.v1+cell": {
     "cellMetadata": {
      "byteLimit": 2048000,
      "rowLimit": 10000
     },
     "inputWidgets": {},
     "nuid": "7d01885a-e50c-4369-ab11-2e010661048b",
     "showTitle": false,
     "tableResultSettingsMap": {},
     "title": ""
    }
   },
   "outputs": [
    {
     "output_type": "stream",
     "name": "stdout",
     "output_type": "stream",
     "text": [
      "+----------+---------+-------+---------------+-----------+--------+--------+-----+----------+--------------+-----+--------------------+\n|DayofMonth|DayOfWeek|airline|OriginAirportID|destination|DepDelay|ArrDelay|delay|airport_id|          city|state|                name|\n+----------+---------+-------+---------------+-----------+--------+--------+-----+----------+--------------+-----+--------------------+\n|        19|        5|     dl|          14869|      12478|       0|      -8|   -8|     12478|      New York|   NY|John F. Kennedy I...|\n|        19|        5|     dl|          14057|      14869|      -4|     -15|  -19|     14869|Salt Lake City|   UT|Salt Lake City In...|\n+----------+---------+-------+---------------+-----------+--------+--------+-----+----------+--------------+-----+--------------------+\nonly showing top 2 rows\n\n"
     ]
    }
   ],
   "source": [
    "flights_enriched_df.show(2)"
   ]
  },
  {
   "cell_type": "code",
   "execution_count": 0,
   "metadata": {
    "application/vnd.databricks.v1+cell": {
     "cellMetadata": {
      "byteLimit": 2048000,
      "rowLimit": 10000
     },
     "inputWidgets": {},
     "nuid": "1af196a3-b9d7-478f-9be2-7d8663bf0c79",
     "showTitle": false,
     "tableResultSettingsMap": {},
     "title": ""
    }
   },
   "outputs": [
    {
     "output_type": "stream",
     "name": "stdout",
     "output_type": "stream",
     "text": [
      "+----------+---------+-------+---------------+-------------+--------+--------+\n|DayofMonth|DayOfWeek|Carrier|OriginAirportID|DestAirportID|DepDelay|ArrDelay|\n+----------+---------+-------+---------------+-------------+--------+--------+\n|        19|        5|     DL|          14869|        12478|       0|      -8|\n|        19|        5|     DL|          14057|        14869|      -4|     -15|\n+----------+---------+-------+---------------+-------------+--------+--------+\nonly showing top 2 rows\n\n"
     ]
    }
   ],
   "source": [
    "raw_flight_data_df.show(2)"
   ]
  },
  {
   "cell_type": "code",
   "execution_count": 0,
   "metadata": {
    "application/vnd.databricks.v1+cell": {
     "cellMetadata": {
      "byteLimit": 2048000,
      "rowLimit": 10000
     },
     "inputWidgets": {},
     "nuid": "694f28a5-6c00-4204-919e-2ec99bdf0af5",
     "showTitle": false,
     "tableResultSettingsMap": {},
     "title": ""
    }
   },
   "outputs": [],
   "source": [
    "full_flights_df = flights_enriched_df.join(\n",
    "    raw_flight_data_df, \n",
    "    [\"OriginAirportID\"],  # Modify based on actual common columns\n",
    "    \"left\"\n",
    ")"
   ]
  },
  {
   "cell_type": "code",
   "execution_count": 0,
   "metadata": {
    "application/vnd.databricks.v1+cell": {
     "cellMetadata": {
      "byteLimit": 2048000,
      "rowLimit": 10000
     },
     "inputWidgets": {},
     "nuid": "299ed33d-3188-4e1e-82ef-83a9482b92cc",
     "showTitle": false,
     "tableResultSettingsMap": {},
     "title": ""
    }
   },
   "outputs": [
    {
     "output_type": "stream",
     "name": "stdout",
     "output_type": "stream",
     "text": [
      "+---------------+----------+---------+-------+-----------+--------+--------+-----+----------+--------------+-----+--------------------+----------+---------+-------+-------------+--------+--------+\n|OriginAirportID|DayofMonth|DayOfWeek|airline|destination|DepDelay|ArrDelay|delay|airport_id|          city|state|                name|DayofMonth|DayOfWeek|Carrier|DestAirportID|DepDelay|ArrDelay|\n+---------------+----------+---------+-------+-----------+--------+--------+-----+----------+--------------+-----+--------------------+----------+---------+-------+-------------+--------+--------+\n|          14057|        19|        5|     dl|      14869|      -4|     -15|  -19|     14869|Salt Lake City|   UT|Salt Lake City In...|        21|        7|     DL|        14869|      -7|     -13|\n|          14057|        19|        5|     dl|      14869|      -4|     -15|  -19|     14869|Salt Lake City|   UT|Salt Lake City In...|        19|        5|     AA|        11298|      -8|     -22|\n+---------------+----------+---------+-------+-----------+--------+--------+-----+----------+--------------+-----+--------------------+----------+---------+-------+-------------+--------+--------+\nonly showing top 2 rows\n\n"
     ]
    }
   ],
   "source": [
    "full_flights_df.show(2)"
   ]
  },
  {
   "cell_type": "code",
   "execution_count": 0,
   "metadata": {
    "application/vnd.databricks.v1+cell": {
     "cellMetadata": {
      "byteLimit": 2048000,
      "rowLimit": 10000
     },
     "inputWidgets": {},
     "nuid": "dcfbf133-09bd-4222-bf07-a0b22ab9c5e2",
     "showTitle": false,
     "tableResultSettingsMap": {},
     "title": ""
    }
   },
   "outputs": [],
   "source": [
    "# 18. Top 5 destination airports by traffic\n",
    "top_destinations = full_flights_df.groupBy(\"destination\").count().orderBy(col(\"count\").desc()).limit(5)"
   ]
  },
  {
   "cell_type": "code",
   "execution_count": 0,
   "metadata": {
    "application/vnd.databricks.v1+cell": {
     "cellMetadata": {
      "byteLimit": 2048000,
      "rowLimit": 10000
     },
     "inputWidgets": {},
     "nuid": "4ded1715-68f7-4b9d-a410-2b5f7e565731",
     "showTitle": false,
     "tableResultSettingsMap": {},
     "title": ""
    }
   },
   "outputs": [],
   "source": [
    "top_destinations.show(3)"
   ]
  },
  {
   "cell_type": "code",
   "execution_count": 0,
   "metadata": {
    "application/vnd.databricks.v1+cell": {
     "cellMetadata": {},
     "inputWidgets": {},
     "nuid": "0d89dd1d-badc-450a-a149-d9eb11ced4e8",
     "showTitle": false,
     "tableResultSettingsMap": {},
     "title": ""
    }
   },
   "outputs": [],
   "source": []
  }
 ],
 "metadata": {
  "application/vnd.databricks.v1+notebook": {
   "computePreferences": null,
   "dashboards": [],
   "environmentMetadata": {
    "base_environment": "",
    "client": "1"
   },
   "language": "python",
   "notebookMetadata": {
    "pythonIndentUnit": 4
   },
   "notebookName": "Flight_Data_Analysis_PySpark",
   "widgets": {}
  }
 },
 "nbformat": 4,
 "nbformat_minor": 0
}
